{
  "cells": [
    {
      "cell_type": "markdown",
      "metadata": {
        "id": "view-in-github",
        "colab_type": "text"
      },
      "source": [
        "<a href=\"https://colab.research.google.com/github/jdKheppar/Chatbot-Project/blob/main/NLP_Project.ipynb\" target=\"_parent\"><img src=\"https://colab.research.google.com/assets/colab-badge.svg\" alt=\"Open In Colab\"/></a>"
      ]
    },
    {
      "cell_type": "code",
      "execution_count": null,
      "metadata": {
        "colab": {
          "base_uri": "https://localhost:8080/"
        },
        "id": "jx0DdEA3Qb7m",
        "outputId": "91ca54dc-eab8-4588-ed56-6e54c9d0b1b7"
      },
      "outputs": [
        {
          "output_type": "stream",
          "name": "stderr",
          "text": [
            "[nltk_data] Downloading package punkt to /root/nltk_data...\n",
            "[nltk_data]   Unzipping tokenizers/punkt.zip.\n"
          ]
        },
        {
          "output_type": "execute_result",
          "data": {
            "text/plain": [
              "True"
            ]
          },
          "metadata": {},
          "execution_count": 2
        }
      ],
      "source": [
        "import nltk\n",
        "nltk.download('punkt')#Sentence tokenizer"
      ]
    },
    {
      "cell_type": "code",
      "execution_count": null,
      "metadata": {
        "id": "Q7eR9DMVQ1hD"
      },
      "outputs": [],
      "source": [
        "import nltk\n",
        "from nltk.stem import WordNetLemmatizer\n",
        "lemmatizer = WordNetLemmatizer()\n",
        "import json\n",
        "import pickle\n",
        "import warnings\n",
        "warnings.filterwarnings('ignore')"
      ]
    },
    {
      "cell_type": "code",
      "execution_count": null,
      "metadata": {
        "id": "U5Hkzuw2Q8P4"
      },
      "outputs": [],
      "source": [
        "import numpy as np\n",
        "import tensorflow as tf\n",
        "from keras.models import Sequential\n",
        "from keras.layers import Dense, Activation, Dropout\n",
        "from tensorflow.keras.optimizers import SGD\n",
        "import random"
      ]
    },
    {
      "cell_type": "code",
      "execution_count": null,
      "metadata": {
        "id": "z-oqn8qiRCAz"
      },
      "outputs": [],
      "source": [
        "words=[]\n",
        "classes = []\n",
        "documents = []\n",
        "ignore_words = ['?', '!']\n",
        "data_file = open('./intents.json').read() # read json file\n",
        "intents = json.loads(data_file) # load json file"
      ]
    },
    {
      "cell_type": "code",
      "execution_count": null,
      "metadata": {
        "id": "cqhAJrGDRRwd"
      },
      "outputs": [],
      "source": [
        "for intent in intents['intents']:\n",
        "    for pattern in intent['patterns']:\n",
        "        #tokenize each word\n",
        "        w = nltk.word_tokenize(pattern)\n",
        "        words.extend(w)# add each elements into list\n",
        "        #combination between patterns and intents\n",
        "        documents.append((w, intent['tag']))#add single element into end of list\n",
        "        # add to tag in our classes list\n",
        "        if intent['tag'] not in classes:\n",
        "            classes.append(intent['tag'])"
      ]
    },
    {
      "cell_type": "code",
      "execution_count": null,
      "metadata": {
        "colab": {
          "base_uri": "https://localhost:8080/"
        },
        "id": "WV9BtYb0RWX6",
        "outputId": "771fb9f3-deb9-48f1-9949-981bf7a5c00f"
      },
      "outputs": [
        {
          "output_type": "stream",
          "name": "stderr",
          "text": [
            "[nltk_data] Downloading package wordnet to /root/nltk_data...\n"
          ]
        },
        {
          "output_type": "execute_result",
          "data": {
            "text/plain": [
              "True"
            ]
          },
          "metadata": {},
          "execution_count": 7
        }
      ],
      "source": [
        "nltk.download('wordnet') #lexical database for the English language"
      ]
    },
    {
      "cell_type": "code",
      "execution_count": null,
      "metadata": {
        "colab": {
          "base_uri": "https://localhost:8080/"
        },
        "id": "opOdWuPnRcK9",
        "outputId": "385bbc04-e095-47d8-8956-f0a373d03bea"
      },
      "outputs": [
        {
          "output_type": "stream",
          "name": "stderr",
          "text": [
            "[nltk_data] Downloading package omw-1.4 to /root/nltk_data...\n"
          ]
        },
        {
          "output_type": "execute_result",
          "data": {
            "text/plain": [
              "True"
            ]
          },
          "metadata": {},
          "execution_count": 8
        }
      ],
      "source": [
        "nltk.download('omw-1.4')"
      ]
    },
    {
      "cell_type": "code",
      "execution_count": null,
      "metadata": {
        "colab": {
          "base_uri": "https://localhost:8080/"
        },
        "id": "Ttfa4KCRRg4k",
        "outputId": "b9389751-852f-4a43-f3fe-3510687a4515"
      },
      "outputs": [
        {
          "output_type": "stream",
          "name": "stdout",
          "text": [
            "422 documents\n",
            " [(['Hi'], 'greeting'), (['How', 'are', 'you', '?'], 'greeting'), (['Is', 'anyone', 'there', '?'], 'greeting'), (['Hello'], 'greeting'), (['Good', 'day'], 'greeting'), (['What', \"'s\", 'up'], 'greeting'), (['how', 'are', 'ya'], 'greeting'), (['heyy'], 'greeting'), (['whatsup'], 'greeting'), (['?', '?', '?', '?', '?', '?', '?', '?'], 'greeting'), (['cya'], 'goodbye'), (['see', 'you'], 'goodbye'), (['bye', 'bye'], 'goodbye'), (['See', 'you', 'later'], 'goodbye'), (['Goodbye'], 'goodbye'), (['I', 'am', 'Leaving'], 'goodbye'), (['Bye'], 'goodbye'), (['Have', 'a', 'Good', 'day'], 'goodbye'), (['talk', 'to', 'you', 'later'], 'goodbye'), (['ttyl'], 'goodbye'), (['i', 'got', 'to', 'go'], 'goodbye'), (['gtg'], 'goodbye'), (['what', 'is', 'the', 'name', 'of', 'your', 'developers'], 'creator'), (['what', 'is', 'the', 'name', 'of', 'your', 'creators'], 'creator'), (['what', 'is', 'the', 'name', 'of', 'the', 'developers'], 'creator'), (['what', 'is', 'the', 'name', 'of', 'the', 'creators'], 'creator'), (['who', 'created', 'you'], 'creator'), (['your', 'developers'], 'creator'), (['your', 'creators'], 'creator'), (['who', 'are', 'your', 'developers'], 'creator'), (['developers'], 'creator'), (['you', 'are', 'made', 'by'], 'creator'), (['you', 'are', 'made', 'by', 'whom'], 'creator'), (['who', 'created', 'you'], 'creator'), (['who', 'create', 'you'], 'creator'), (['creators'], 'creator'), (['who', 'made', 'you'], 'creator'), (['who', 'designed', 'you'], 'creator'), (['name'], 'name'), (['your', 'name'], 'name'), (['do', 'you', 'have', 'a', 'name'], 'name'), (['what', 'are', 'you', 'called'], 'name'), (['what', 'is', 'your', 'name'], 'name'), (['what', 'should', 'I', 'call', 'you'], 'name'), (['whats', 'your', 'name', '?'], 'name'), (['what', 'are', 'you'], 'name'), (['who', 'are', 'you'], 'name'), (['who', 'is', 'this'], 'name'), (['what', 'am', 'i', 'chatting', 'to'], 'name'), (['who', 'am', 'i', 'taking', 'to'], 'name'), (['what', 'are', 'you'], 'name'), (['timing', 'of', 'college'], 'hours'), (['what', 'is', 'college', 'timing'], 'hours'), (['working', 'days'], 'hours'), (['when', 'are', 'you', 'guys', 'open'], 'hours'), (['what', 'are', 'your', 'hours'], 'hours'), (['hours', 'of', 'operation'], 'hours'), (['when', 'is', 'the', 'college', 'open'], 'hours'), (['college', 'timing'], 'hours'), (['what', 'about', 'college', 'timing'], 'hours'), (['is', 'college', 'open', 'on', 'saturday'], 'hours'), (['tell', 'something', 'about', 'college', 'timing'], 'hours'), (['what', 'is', 'the', 'college', 'hours'], 'hours'), (['when', 'should', 'i', 'come', 'to', 'college'], 'hours'), (['when', 'should', 'i', 'attend', 'college'], 'hours'), (['what', 'is', 'my', 'college', 'time'], 'hours'), (['college', 'timing'], 'hours'), (['timing', 'college'], 'hours'), (['more', 'info'], 'number'), (['contact', 'info'], 'number'), (['how', 'to', 'contact', 'college'], 'number'), (['college', 'telephone', 'number'], 'number'), (['college', 'number'], 'number'), (['What', 'is', 'your', 'contact', 'no'], 'number'), (['Contact', 'number', '?'], 'number'), (['how', 'to', 'call', 'you'], 'number'), (['College', 'phone', 'no', '?'], 'number'), (['how', 'can', 'i', 'contact', 'you'], 'number'), (['Can', 'i', 'get', 'your', 'phone', 'number'], 'number'), (['how', 'can', 'i', 'call', 'you'], 'number'), (['phone', 'number'], 'number'), (['phone', 'no'], 'number'), (['call'], 'number'), (['list', 'of', 'courses'], 'course'), (['list', 'of', 'courses', 'offered'], 'course'), (['list', 'of', 'courses', 'offered', 'in'], 'course'), (['what', 'are', 'the', 'courses', 'offered', 'in', 'your', 'college', '?'], 'course'), (['courses', '?'], 'course'), (['courses', 'offered'], 'course'), (['courses', 'offered', 'in', '(', 'your', 'univrsity', '(', 'UNI', ')', 'name', ')'], 'course'), (['courses', 'you', 'offer'], 'course'), (['branches', '?'], 'course'), (['courses', 'available', 'at', 'UNI', '?'], 'course'), (['branches', 'available', 'at', 'your', 'college', '?'], 'course'), (['what', 'are', 'the', 'courses', 'in', 'UNI', '?'], 'course'), (['what', 'are', 'branches', 'in', 'UNI', '?'], 'course'), (['what', 'are', 'courses', 'in', 'UNI', '?'], 'course'), (['branches', 'available', 'in', 'UNI', '?'], 'course'), (['can', 'you', 'tell', 'me', 'the', 'courses', 'available', 'in', 'UNI', '?'], 'course'), (['can', 'you', 'tell', 'me', 'the', 'branches', 'available', 'in', 'UNI', '?'], 'course'), (['computer', 'engineering', '?'], 'course'), (['computer'], 'course'), (['Computer', 'engineering', '?'], 'course'), (['it'], 'course'), (['IT'], 'course'), (['Information', 'Technology'], 'course'), (['AI/Ml'], 'course'), (['Mechanical', 'engineering'], 'course'), (['Chemical', 'engineering'], 'course'), (['Civil', 'engineering'], 'course'), (['information', 'about', 'fee'], 'fees'), (['information', 'on', 'fee'], 'fees'), (['tell', 'me', 'the', 'fee'], 'fees'), (['college', 'fee'], 'fees'), (['fee', 'per', 'semester'], 'fees'), (['what', 'is', 'the', 'fee', 'of', 'each', 'semester'], 'fees'), (['what', 'is', 'the', 'fees', 'of', 'each', 'year'], 'fees'), (['what', 'is', 'fee'], 'fees'), (['what', 'is', 'the', 'fees'], 'fees'), (['how', 'much', 'is', 'the', 'fees'], 'fees'), (['fees', 'for', 'first', 'year'], 'fees'), (['fees'], 'fees'), (['about', 'the', 'fees'], 'fees'), (['tell', 'me', 'something', 'about', 'the', 'fees'], 'fees'), (['What', 'is', 'the', 'fees', 'of', 'hostel'], 'fees'), (['how', 'much', 'is', 'the', 'fees'], 'fees'), (['hostel', 'fees'], 'fees'), (['fees', 'for', 'AC', 'room'], 'fees'), (['fees', 'for', 'non-AC', 'room'], 'fees'), (['fees', 'for', 'Ac', 'room', 'for', 'girls'], 'fees'), (['fees', 'for', 'non-Ac', 'room', 'for', 'girls'], 'fees'), (['fees', 'for', 'Ac', 'room', 'for', 'boys'], 'fees'), (['fees', 'for', 'non-Ac', 'room', 'for', 'boys'], 'fees'), (['where', 'is', 'the', 'college', 'located'], 'location'), (['college', 'is', 'located', 'at'], 'location'), (['where', 'is', 'college'], 'location'), (['where', 'is', 'college', 'located'], 'location'), (['address', 'of', 'college'], 'location'), (['how', 'to', 'reach', 'college'], 'location'), (['college', 'location'], 'location'), (['college', 'address'], 'location'), (['wheres', 'the', 'college'], 'location'), (['how', 'can', 'I', 'reach', 'college'], 'location'), (['whats', 'is', 'the', 'college', 'address'], 'location'), (['what', 'is', 'the', 'address', 'of', 'college'], 'location'), (['address'], 'location'), (['location'], 'location'), (['hostel', 'facility'], 'hostel'), (['hostel', 'servive'], 'hostel'), (['hostel', 'location'], 'hostel'), (['hostel', 'address'], 'hostel'), (['hostel', 'facilities'], 'hostel'), (['hostel', 'fees'], 'hostel'), (['Does', 'college', 'provide', 'hostel'], 'hostel'), (['Is', 'there', 'any', 'hostel'], 'hostel'), (['Where', 'is', 'hostel'], 'hostel'), (['do', 'you', 'have', 'hostel'], 'hostel'), (['do', 'you', 'guys', 'have', 'hostel'], 'hostel'), (['hostel'], 'hostel'), (['hostel', 'capacity'], 'hostel'), (['what', 'is', 'the', 'hostel', 'fee'], 'hostel'), (['how', 'to', 'get', 'in', 'hostel'], 'hostel'), (['what', 'is', 'the', 'hostel', 'address'], 'hostel'), (['how', 'far', 'is', 'hostel', 'from', 'college'], 'hostel'), (['hostel', 'college', 'distance'], 'hostel'), (['where', 'is', 'the', 'hostel'], 'hostel'), (['how', 'big', 'is', 'the', 'hostel'], 'hostel'), (['distance', 'between', 'college', 'and', 'hostel'], 'hostel'), (['distance', 'between', 'hostel', 'and', 'college'], 'hostel'), (['events', 'organised'], 'event'), (['list', 'of', 'events'], 'event'), (['list', 'of', 'events', 'organised', 'in', 'college'], 'event'), (['list', 'of', 'events', 'conducted', 'in', 'college'], 'event'), (['What', 'events', 'are', 'conducted', 'in', 'college'], 'event'), (['Are', 'there', 'any', 'event', 'held', 'at', 'college'], 'event'), (['Events', '?'], 'event'), (['functions'], 'event'), (['what', 'are', 'the', 'events'], 'event'), (['tell', 'me', 'about', 'events'], 'event'), (['what', 'about', 'events'], 'event'), (['document', 'to', 'bring'], 'document'), (['documents', 'needed', 'for', 'admision'], 'document'), (['documents', 'needed', 'at', 'the', 'time', 'of', 'admission'], 'document'), (['documents', 'needed', 'during', 'admission'], 'document'), (['documents', 'required', 'for', 'admision'], 'document'), (['documents', 'required', 'at', 'the', 'time', 'of', 'admission'], 'document'), (['documents', 'required', 'during', 'admission'], 'document'), (['What', 'document', 'are', 'required', 'for', 'admission'], 'document'), (['Which', 'document', 'to', 'bring', 'for', 'admission'], 'document'), (['documents'], 'document'), (['what', 'documents', 'do', 'i', 'need'], 'document'), (['what', 'documents', 'do', 'I', 'need', 'for', 'admission'], 'document'), (['documents', 'needed'], 'document'), (['size', 'of', 'campus'], 'floors'), (['building', 'size'], 'floors'), (['How', 'many', 'floors', 'does', 'college', 'have'], 'floors'), (['floors', 'in', 'college'], 'floors'), (['floors', 'in', 'college'], 'floors'), (['how', 'tall', 'is', 'UNI', \"'s\", 'College', 'of', 'Engineering', 'college', 'building'], 'floors'), (['floors'], 'floors'), (['Syllabus', 'for', 'IT'], 'syllabus'), (['what', 'is', 'the', 'Information', 'Technology', 'syllabus'], 'syllabus'), (['syllabus'], 'syllabus'), (['timetable'], 'syllabus'), (['what', 'is', 'IT', 'syllabus'], 'syllabus'), (['syllabus'], 'syllabus'), (['What', 'is', 'next', 'lecture'], 'syllabus'), (['is', 'there', 'any', 'library'], 'library'), (['library', 'facility'], 'library'), (['library', 'facilities'], 'library'), (['do', 'you', 'have', 'library'], 'library'), (['does', 'the', 'college', 'have', 'library', 'facility'], 'library'), (['college', 'library'], 'library'), (['where', 'can', 'i', 'get', 'books'], 'library'), (['book', 'facility'], 'library'), (['Where', 'is', 'library'], 'library'), (['Library'], 'library'), (['Library', 'information'], 'library'), (['Library', 'books', 'information'], 'library'), (['Tell', 'me', 'about', 'library'], 'library'), (['how', 'many', 'libraries'], 'library'), (['how', 'is', 'college', 'infrastructure'], 'infrastructure'), (['infrastructure'], 'infrastructure'), (['college', 'infrastructure'], 'infrastructure'), (['food', 'facilities'], 'canteen'), (['canteen', 'facilities'], 'canteen'), (['canteen', 'facility'], 'canteen'), (['is', 'there', 'any', 'canteen'], 'canteen'), (['Is', 'there', 'a', 'cafetaria', 'in', 'college'], 'canteen'), (['Does', 'college', 'have', 'canteen'], 'canteen'), (['Where', 'is', 'canteen'], 'canteen'), (['where', 'is', 'cafetaria'], 'canteen'), (['canteen'], 'canteen'), (['Food'], 'canteen'), (['Cafetaria'], 'canteen'), (['food', 'menu'], 'menu'), (['food', 'in', 'canteen'], 'menu'), (['Whats', 'there', 'on', 'menu'], 'menu'), (['what', 'is', 'available', 'in', 'college', 'canteen'], 'menu'), (['what', 'foods', 'can', 'we', 'get', 'in', 'college', 'canteen'], 'menu'), (['food', 'variety'], 'menu'), (['What', 'is', 'there', 'to', 'eat', '?'], 'menu'), (['What', 'is', 'college', 'placement'], 'placement'), (['Which', 'companies', 'visit', 'in', 'college'], 'placement'), (['What', 'is', 'average', 'package'], 'placement'), (['companies', 'visit'], 'placement'), (['package'], 'placement'), (['About', 'placement'], 'placement'), (['placement'], 'placement'), (['recruitment'], 'placement'), (['companies'], 'placement'), (['Who', 'is', 'HOD'], 'ithod'), (['Where', 'is', 'HOD'], 'ithod'), (['it', 'hod'], 'ithod'), (['name', 'of', 'it', 'hod'], 'ithod'), (['Who', 'is', 'computer', 'HOD'], 'computerhod'), (['Where', 'is', 'computer', 'HOD'], 'computerhod'), (['computer', 'hod'], 'computerhod'), (['name', 'of', 'computer', 'hod'], 'computerhod'), (['Who', 'is', 'extc', 'HOD'], 'extchod'), (['Where', 'is', 'extc', 'HOD'], 'extchod'), (['extc', 'hod'], 'extchod'), (['name', 'of', 'extc', 'hod'], 'extchod'), (['what', 'is', 'the', 'name', 'of', 'principal'], 'principal'), (['whatv', 'is', 'the', 'principal', 'name'], 'principal'), (['principal', 'name'], 'principal'), (['Who', 'is', 'college', 'principal'], 'principal'), (['Where', 'is', 'principal', \"'s\", 'office'], 'principal'), (['principal'], 'principal'), (['name', 'of', 'principal'], 'principal'), (['exam', 'dates'], 'sem'), (['exam', 'schedule'], 'sem'), (['When', 'is', 'semester', 'exam'], 'sem'), (['Semester', 'exam', 'timetable'], 'sem'), (['sem'], 'sem'), (['semester'], 'sem'), (['exam'], 'sem'), (['when', 'is', 'exam'], 'sem'), (['exam', 'timetable'], 'sem'), (['exam', 'dates'], 'sem'), (['when', 'is', 'semester'], 'sem'), (['what', 'is', 'the', 'process', 'of', 'admission'], 'admission'), (['what', 'is', 'the', 'admission', 'process'], 'admission'), (['How', 'to', 'take', 'admission', 'in', 'your', 'college'], 'admission'), (['What', 'is', 'the', 'process', 'for', 'admission'], 'admission'), (['admission'], 'admission'), (['admission', 'process'], 'admission'), (['scholarship'], 'scholarship'), (['Is', 'scholarship', 'available'], 'scholarship'), (['scholarship', 'engineering'], 'scholarship'), (['scholarship', 'it'], 'scholarship'), (['scholarship', 'ce'], 'scholarship'), (['scholarship', 'mechanical'], 'scholarship'), (['scholarship', 'civil'], 'scholarship'), (['scholarship', 'chemical'], 'scholarship'), (['scholarship', 'for', 'AI/ML'], 'scholarship'), (['available', 'scholarships'], 'scholarship'), (['scholarship', 'for', 'computer', 'engineering'], 'scholarship'), (['scholarship', 'for', 'IT', 'engineering'], 'scholarship'), (['scholarship', 'for', 'mechanical', 'engineering'], 'scholarship'), (['scholarship', 'for', 'civil', 'engineering'], 'scholarship'), (['scholarship', 'for', 'chemical', 'engineering'], 'scholarship'), (['list', 'of', 'scholarship'], 'scholarship'), (['comps', 'scholarship'], 'scholarship'), (['IT', 'scholarship'], 'scholarship'), (['mechanical', 'scholarship'], 'scholarship'), (['civil', 'scholarship'], 'scholarship'), (['chemical', 'scholarship'], 'scholarship'), (['automobile', 'scholarship'], 'scholarship'), (['first', 'year', 'scholarship'], 'scholarship'), (['second', 'year', 'scholarship'], 'scholarship'), (['third', 'year', 'scholarship'], 'scholarship'), (['fourth', 'year', 'scholarship'], 'scholarship'), (['What', 'facilities', 'college', 'provide'], 'facilities'), (['College', 'facility'], 'facilities'), (['What', 'are', 'college', 'facilities'], 'facilities'), (['facilities'], 'facilities'), (['facilities', 'provided'], 'facilities'), (['max', 'number', 'of', 'students'], 'college intake'), (['number', 'of', 'seats', 'per', 'branch'], 'college intake'), (['number', 'of', 'seats', 'in', 'each', 'branch'], 'college intake'), (['maximum', 'number', 'of', 'seats'], 'college intake'), (['maximum', 'students', 'intake'], 'college intake'), (['What', 'is', 'college', 'intake'], 'college intake'), (['how', 'many', 'stundent', 'are', 'taken', 'in', 'each', 'branch'], 'college intake'), (['seat', 'allotment'], 'college intake'), (['seats'], 'college intake'), (['college', 'dress', 'code'], 'uniform'), (['college', 'dresscode'], 'uniform'), (['what', 'is', 'the', 'uniform'], 'uniform'), (['can', 'we', 'wear', 'casuals'], 'uniform'), (['Does', 'college', 'have', 'an', 'uniform'], 'uniform'), (['Is', 'there', 'any', 'uniform'], 'uniform'), (['uniform'], 'uniform'), (['what', 'about', 'uniform'], 'uniform'), (['do', 'we', 'have', 'to', 'wear', 'uniform'], 'uniform'), (['what', 'are', 'the', 'different', 'committe', 'in', 'college'], 'committee'), (['different', 'committee', 'in', 'college'], 'committee'), (['Are', 'there', 'any', 'committee', 'in', 'college'], 'committee'), (['Give', 'me', 'committee', 'details'], 'committee'), (['committee'], 'committee'), (['how', 'many', 'committee', 'are', 'there', 'in', 'college'], 'committee'), (['I', 'love', 'you'], 'random'), (['Will', 'you', 'marry', 'me'], 'random'), (['Do', 'you', 'love', 'me'], 'random'), (['fuck'], 'swear'), (['bitch'], 'swear'), (['shut', 'up'], 'swear'), (['hell'], 'swear'), (['stupid'], 'swear'), (['idiot'], 'swear'), (['dumb', 'ass'], 'swear'), (['asshole'], 'swear'), (['fucker'], 'swear'), (['holidays'], 'vacation'), (['when', 'will', 'semester', 'starts'], 'vacation'), (['when', 'will', 'semester', 'end'], 'vacation'), (['when', 'is', 'the', 'holidays'], 'vacation'), (['list', 'of', 'holidays'], 'vacation'), (['Holiday', 'in', 'these', 'year'], 'vacation'), (['holiday', 'list'], 'vacation'), (['about', 'vacations'], 'vacation'), (['about', 'holidays'], 'vacation'), (['When', 'is', 'vacation'], 'vacation'), (['When', 'is', 'holidays'], 'vacation'), (['how', 'long', 'will', 'be', 'the', 'vacation'], 'vacation'), (['sports', 'and', 'games'], 'sports'), (['give', 'sports', 'details'], 'sports'), (['sports', 'infrastructure'], 'sports'), (['sports', 'facilities'], 'sports'), (['information', 'about', 'sports'], 'sports'), (['Sports', 'activities'], 'sports'), (['please', 'provide', 'sports', 'and', 'games', 'information'], 'sports'), (['okk'], 'salutaion'), (['okie'], 'salutaion'), (['nice', 'work'], 'salutaion'), (['well', 'done'], 'salutaion'), (['good', 'job'], 'salutaion'), (['thanks', 'for', 'the', 'help'], 'salutaion'), (['Thank', 'You'], 'salutaion'), (['its', 'ok'], 'salutaion'), (['Thanks'], 'salutaion'), (['Good', 'work'], 'salutaion'), (['k'], 'salutaion'), (['ok'], 'salutaion'), (['okay'], 'salutaion'), (['what', 'can', 'you', 'do'], 'task'), (['what', 'are', 'the', 'thing', 'you', 'can', 'do'], 'task'), (['things', 'you', 'can', 'do'], 'task'), (['what', 'can', 'u', 'do', 'for', 'me'], 'task'), (['how', 'u', 'can', 'help', 'me'], 'task'), (['why', 'i', 'should', 'use', 'you'], 'task'), (['ragging'], 'ragging'), (['is', 'ragging', 'practice', 'active', 'in', 'college'], 'ragging'), (['does', 'college', 'have', 'any', 'antiragging', 'facility'], 'ragging'), (['is', 'there', 'any', 'ragging', 'cases'], 'ragging'), (['is', 'ragging', 'done', 'here'], 'ragging'), (['ragging', 'against'], 'ragging'), (['antiragging', 'facility'], 'ragging'), (['ragging', 'juniors'], 'ragging'), (['ragging', 'history'], 'ragging'), (['ragging', 'incidents'], 'ragging'), (['hod'], 'hod'), (['hod', 'name'], 'hod'), (['who', 'is', 'the', 'hod'], 'hod'), (['Tell', 'me', 'about', 'the', 'faculty'], 'faculty'), (['Who', 'are', 'the', 'professors', '?'], 'faculty'), (['Faculty', 'members'], 'faculty'), (['Teaching', 'staff'], 'faculty'), (['What', 'is', 'the', 'class', 'schedule', '?'], 'timetable'), (['Can', 'you', 'provide', 'the', 'timetable', '?'], 'timetable'), (['When', 'are', 'my', 'classes', 'scheduled', '?'], 'timetable'), (['Timetable', 'for', 'this', 'semester'], 'timetable'), (['Tell', 'me', 'about', 'the', 'college', \"'s\", 'alumni', 'network', '.'], 'alumni'), (['Are', 'there', 'any', 'networking', 'opportunities', 'for', 'alumni', '?'], 'alumni'), (['How', 'can', 'I', 'connect', 'with', 'the', 'college', \"'s\", 'alumni', '?'], 'alumni'), (['Is', 'there', 'transportation', 'available', 'for', 'students', '?'], 'transportation'), (['How', 'can', 'I', 'commute', 'to', 'the', 'college', '?'], 'transportation'), (['Do', 'you', 'have', 'a', 'bus', 'service', '?'], 'transportation'), (['What', 'career', 'services', 'are', 'available', 'to', 'students', '?'], 'career'), (['Does', 'the', 'college', 'offer', 'job', 'placement', 'assistance', '?'], 'career'), (['Are', 'there', 'any', 'career', 'fairs', 'or', 'networking', 'events', '?'], 'career')] \n",
            "\n",
            "43 classes\n",
            " ['admission', 'alumni', 'canteen', 'career', 'college intake', 'committee', 'computerhod', 'course', 'creator', 'document', 'event', 'extchod', 'facilities', 'faculty', 'fees', 'floors', 'goodbye', 'greeting', 'hod', 'hostel', 'hours', 'infrastructure', 'ithod', 'library', 'location', 'menu', 'name', 'number', 'placement', 'principal', 'ragging', 'random', 'salutaion', 'scholarship', 'sem', 'sports', 'swear', 'syllabus', 'task', 'timetable', 'transportation', 'uniform', 'vacation'] \n",
            "\n",
            "285 unique lemmatized words\n",
            " [\"'s\", '(', ')', '.', 'a', 'about', 'ac', 'active', 'activity', 'address', 'admision', 'admission', 'against', 'ai/ml', 'allotment', 'alumnus', 'am', 'an', 'and', 'antiragging', 'any', 'anyone', 'are', 'as', 'asshole', 'assistance', 'at', 'attend', 'automobile', 'available', 'average', 'be', 'between', 'big', 'bitch', 'book', 'boy', 'branch', 'bring', 'building', 'bus', 'by', 'bye', 'cafetaria', 'call', 'called', 'campus', 'can', 'canteen', 'capacity', 'career', 'case', 'casuals', 'ce', 'chatting', 'chemical', 'civil', 'class', 'code', 'college', 'come', 'committe', 'committee', 'commute', 'comp', 'company', 'computer', 'conducted', 'connect', 'contact', 'course', 'create', 'created', 'creator', 'cya', 'date', 'day', 'designed', 'detail', 'developer', 'different', 'distance', 'do', 'document', 'doe', 'done', 'dress', 'dresscode', 'dumb', 'during', 'each', 'eat', 'end', 'engineering', 'event', 'exam', 'extc', 'facility', 'faculty', 'fair', 'far', 'fee', 'first', 'floor', 'food', 'for', 'fourth', 'from', 'fuck', 'fucker', 'function', 'game', 'get', 'girl', 'give', 'go', 'good', 'goodbye', 'got', 'gtg', 'guy', 'have', 'held', 'hell', 'hello', 'help', 'here', 'heyy', 'hi', 'history', 'hod', 'holiday', 'hostel', 'hour', 'how', 'i', 'idiot', 'in', 'incident', 'info', 'information', 'infrastructure', 'intake', 'is', 'it', 'job', 'junior', 'k', 'later', 'leaving', 'lecture', 'library', 'list', 'located', 'location', 'long', 'love', 'made', 'many', 'marry', 'max', 'maximum', 'me', 'mechanical', 'member', 'menu', 'more', 'much', 'my', 'name', 'need', 'needed', 'network', 'networking', 'next', 'nice', 'no', 'non-ac', 'number', 'of', 'offer', 'offered', 'office', 'ok', 'okay', 'okie', 'okk', 'on', 'open', 'operation', 'opportunity', 'or', 'organised', 'package', 'per', 'phone', 'placement', 'please', 'practice', 'principal', 'process', 'professor', 'provide', 'provided', 'ragging', 'reach', 'recruitment', 'required', 'room', 'saturday', 'schedule', 'scheduled', 'scholarship', 'seat', 'second', 'see', 'sem', 'semester', 'service', 'servive', 'should', 'shut', 'size', 'something', 'sport', 'staff', 'start', 'student', 'stundent', 'stupid', 'syllabus', 'take', 'taken', 'taking', 'talk', 'tall', 'teaching', 'technology', 'telephone', 'tell', 'thank', 'thanks', 'the', 'there', 'these', 'thing', 'third', 'this', 'time', 'timetable', 'timing', 'to', 'transportation', 'ttyl', 'u', 'uni', 'uniform', 'univrsity', 'up', 'use', 'vacation', 'variety', 'visit', 'we', 'wear', 'well', 'what', 'whats', 'whatsup', 'whatv', 'when', 'where', 'wheres', 'which', 'who', 'whom', 'why', 'will', 'with', 'work', 'working', 'ya', 'year', 'you', 'your'] \n",
            "\n"
          ]
        }
      ],
      "source": [
        "# lemmatize, lower each word and remove duplicates\n",
        "words = [lemmatizer.lemmatize(w.lower()) for w in words if w not in ignore_words]\n",
        "words = sorted(list(set(words)))\n",
        "# sort classes\n",
        "classes = sorted(list(set(classes)))\n",
        "# documents = combination between patterns and intents\n",
        "print (len(documents), \"documents\\n\", documents, \"\\n\")\n",
        "# classes = intents[tag]\n",
        "print (len(classes), \"classes\\n\", classes, \"\\n\")\n",
        "# words = all words, vocabulary\n",
        "print (len(words), \"unique lemmatized words\\n\", words, \"\\n\")\n",
        "pickle.dump(words,open('words.pkl','wb'))\n",
        "pickle.dump(classes,open('classes.pkl','wb'))"
      ]
    },
    {
      "cell_type": "code",
      "execution_count": null,
      "metadata": {
        "colab": {
          "base_uri": "https://localhost:8080/"
        },
        "id": "CstdszIdR3eg",
        "outputId": "cd6831af-a7eb-41f8-f62e-5da2f9cf9768"
      },
      "outputs": [
        {
          "output_type": "stream",
          "name": "stdout",
          "text": [
            "Training data created\n"
          ]
        }
      ],
      "source": [
        "# create our training data\n",
        "from sklearn.model_selection import train_test_split\n",
        "training = []\n",
        "# create an empty array for our output\n",
        "output_empty = [0] * len(classes)\n",
        "# training set, bag of words for each sentence\n",
        "for doc in documents:\n",
        "    # initialize our bag of words\n",
        "    bag = []\n",
        "    # list of tokenized words\n",
        "    pattern_words = doc[0]\n",
        "    # convert pattern_words in lower case\n",
        "    pattern_words = [lemmatizer.lemmatize(word.lower()) for word in pattern_words]\n",
        "    # create bag of words array,if word match found in current pattern then put 1 otherwise 0.[row * colm(263)]\n",
        "    for w in words:\n",
        "        bag.append(1) if w in pattern_words else bag.append(0)\n",
        "    # in output array 0 value for each tag ang 1 value for matched tag.[row * colm(8)]\n",
        "    output_row = list(output_empty)\n",
        "    output_row[classes.index(doc[1])] = 1\n",
        "\n",
        "    training.append([bag, output_row])\n",
        "# shuffle training and turn into np.array\n",
        "random.shuffle(training)\n",
        "training = np.array(training)\n",
        "# create train and test. X - patterns(words), Y - intents(tags)\n",
        "train_data, test_data = train_test_split(training, test_size=0.2, random_state=42)\n",
        "\n",
        "test_x = list(test_data[:,0])\n",
        "test_y = list(test_data[:,1])\n",
        "train_x = list(train_data[:,0])\n",
        "train_y = list(train_data[:,1])\n",
        "print(\"Training data created\")"
      ]
    },
    {
      "cell_type": "code",
      "execution_count": null,
      "metadata": {
        "id": "Xsz54qV1SMNd"
      },
      "outputs": [],
      "source": [
        "from tensorflow.python.framework import ops\n",
        "ops.reset_default_graph()"
      ]
    },
    {
      "cell_type": "code",
      "execution_count": null,
      "metadata": {
        "id": "5EutGOIjSQPa",
        "colab": {
          "base_uri": "https://localhost:8080/"
        },
        "outputId": "8a300867-bb34-4990-be9d-0b03ec3e3e88"
      },
      "outputs": [
        {
          "output_type": "stream",
          "name": "stdout",
          "text": [
            "First layer: [[ 0.10457352  0.04242885 -0.10423896 ...  0.0268044   0.06624343\n",
            "   0.07299136]\n",
            " [-0.04119976 -0.07166049 -0.03316431 ...  0.02648526  0.09588648\n",
            "   0.00958806]\n",
            " [ 0.00772668  0.11682083  0.09553756 ... -0.04984259  0.06700695\n",
            "   0.00562441]\n",
            " ...\n",
            " [-0.05818146  0.09655553 -0.03840631 ... -0.08837566 -0.11657199\n",
            "  -0.017756  ]\n",
            " [ 0.04796933 -0.12336817  0.10174611 ...  0.01113139 -0.04244635\n",
            "   0.08307426]\n",
            " [-0.11301258 -0.0289164  -0.09439796 ... -0.03828824  0.06936562\n",
            "   0.03578992]]\n"
          ]
        }
      ],
      "source": [
        "# Create model - 3 layers. First layer 64 neurons, second layer 32 neurons and 3rd output layer contains number of neurons\n",
        "# equal to number of intents to predict output intent with softmax\n",
        "model = Sequential()\n",
        "model.add(Dense(64, input_shape=(len(train_x[0]),), activation='relu'))\n",
        "model.add(Dense(32, activation='relu'))\n",
        "model.add(Dense(len(train_y[0]), activation='softmax'))\n",
        "print(\"First layer:\",model.layers[0].get_weights()[0])"
      ]
    },
    {
      "cell_type": "code",
      "execution_count": null,
      "metadata": {
        "id": "umrnpJ8ASUeZ"
      },
      "outputs": [],
      "source": [
        "# Compile model. Stochastic gradient descent with Nesterov accelerated gradient gives good results for this model\n",
        "# sgd = SGD(lr=0.01, decay=1e-6, momentum=0.9, nesterov=True)\n",
        "model.compile(loss='categorical_crossentropy', optimizer='adam', metrics=['accuracy'])"
      ]
    },
    {
      "cell_type": "code",
      "execution_count": null,
      "metadata": {
        "id": "KSh28j8-SX-J",
        "colab": {
          "base_uri": "https://localhost:8080/"
        },
        "outputId": "6dcf2dd5-5666-420a-f958-72812ff0cdca"
      },
      "outputs": [
        {
          "output_type": "stream",
          "name": "stdout",
          "text": [
            "Epoch 1/200\n",
            "68/68 [==============================] - 9s 5ms/step - loss: 3.7227 - accuracy: 0.0564\n",
            "Epoch 2/200\n",
            "68/68 [==============================] - 0s 5ms/step - loss: 3.5403 - accuracy: 0.2077\n",
            "Epoch 3/200\n",
            "68/68 [==============================] - 0s 5ms/step - loss: 3.2079 - accuracy: 0.2136\n",
            "Epoch 4/200\n",
            "68/68 [==============================] - 0s 5ms/step - loss: 2.8071 - accuracy: 0.2404\n",
            "Epoch 5/200\n",
            "68/68 [==============================] - 0s 6ms/step - loss: 2.4058 - accuracy: 0.4125\n",
            "Epoch 6/200\n",
            "68/68 [==============================] - 0s 5ms/step - loss: 1.9931 - accuracy: 0.5994\n",
            "Epoch 7/200\n",
            "68/68 [==============================] - 0s 7ms/step - loss: 1.5978 - accuracy: 0.7240\n",
            "Epoch 8/200\n",
            "68/68 [==============================] - 0s 5ms/step - loss: 1.2486 - accuracy: 0.8042\n",
            "Epoch 9/200\n",
            "68/68 [==============================] - 0s 6ms/step - loss: 0.9627 - accuracy: 0.8635\n",
            "Epoch 10/200\n",
            "68/68 [==============================] - 0s 5ms/step - loss: 0.7399 - accuracy: 0.9080\n",
            "Epoch 11/200\n",
            "68/68 [==============================] - 0s 5ms/step - loss: 0.5733 - accuracy: 0.9258\n",
            "Epoch 12/200\n",
            "68/68 [==============================] - 0s 5ms/step - loss: 0.4437 - accuracy: 0.9525\n",
            "Epoch 13/200\n",
            "68/68 [==============================] - 0s 6ms/step - loss: 0.3454 - accuracy: 0.9674\n",
            "Epoch 14/200\n",
            "68/68 [==============================] - 0s 3ms/step - loss: 0.2731 - accuracy: 0.9703\n",
            "Epoch 15/200\n",
            "68/68 [==============================] - 0s 3ms/step - loss: 0.2157 - accuracy: 0.9792\n",
            "Epoch 16/200\n",
            "68/68 [==============================] - 0s 3ms/step - loss: 0.1783 - accuracy: 0.9792\n",
            "Epoch 17/200\n",
            "68/68 [==============================] - 0s 3ms/step - loss: 0.1470 - accuracy: 0.9822\n",
            "Epoch 18/200\n",
            "68/68 [==============================] - 0s 3ms/step - loss: 0.1252 - accuracy: 0.9881\n",
            "Epoch 19/200\n",
            "68/68 [==============================] - 0s 3ms/step - loss: 0.1110 - accuracy: 0.9911\n",
            "Epoch 20/200\n",
            "68/68 [==============================] - 0s 3ms/step - loss: 0.0957 - accuracy: 0.9911\n",
            "Epoch 21/200\n",
            "68/68 [==============================] - 0s 5ms/step - loss: 0.0821 - accuracy: 0.9941\n",
            "Epoch 22/200\n",
            "68/68 [==============================] - 0s 4ms/step - loss: 0.0784 - accuracy: 0.9852\n",
            "Epoch 23/200\n",
            "68/68 [==============================] - 0s 4ms/step - loss: 0.0671 - accuracy: 0.9911\n",
            "Epoch 24/200\n",
            "68/68 [==============================] - 0s 4ms/step - loss: 0.0614 - accuracy: 0.9911\n",
            "Epoch 25/200\n",
            "68/68 [==============================] - 0s 4ms/step - loss: 0.0587 - accuracy: 0.9970\n",
            "Epoch 26/200\n",
            "68/68 [==============================] - 0s 4ms/step - loss: 0.0526 - accuracy: 0.9941\n",
            "Epoch 27/200\n",
            "68/68 [==============================] - 0s 5ms/step - loss: 0.0455 - accuracy: 0.9970\n",
            "Epoch 28/200\n",
            "68/68 [==============================] - 0s 4ms/step - loss: 0.0443 - accuracy: 0.9911\n",
            "Epoch 29/200\n",
            "68/68 [==============================] - 0s 4ms/step - loss: 0.0406 - accuracy: 0.9911\n",
            "Epoch 30/200\n",
            "68/68 [==============================] - 0s 4ms/step - loss: 0.0387 - accuracy: 0.9941\n",
            "Epoch 31/200\n",
            "68/68 [==============================] - 0s 3ms/step - loss: 0.0382 - accuracy: 0.9911\n",
            "Epoch 32/200\n",
            "68/68 [==============================] - 0s 3ms/step - loss: 0.0336 - accuracy: 0.9970\n",
            "Epoch 33/200\n",
            "68/68 [==============================] - 0s 3ms/step - loss: 0.0300 - accuracy: 0.9941\n",
            "Epoch 34/200\n",
            "68/68 [==============================] - 0s 3ms/step - loss: 0.0304 - accuracy: 0.9970\n",
            "Epoch 35/200\n",
            "68/68 [==============================] - 0s 3ms/step - loss: 0.0252 - accuracy: 0.9970\n",
            "Epoch 36/200\n",
            "68/68 [==============================] - 0s 3ms/step - loss: 0.0259 - accuracy: 0.9970\n",
            "Epoch 37/200\n",
            "68/68 [==============================] - 0s 3ms/step - loss: 0.0249 - accuracy: 0.9970\n",
            "Epoch 38/200\n",
            "68/68 [==============================] - 0s 3ms/step - loss: 0.0244 - accuracy: 0.9941\n",
            "Epoch 39/200\n",
            "68/68 [==============================] - 0s 3ms/step - loss: 0.0249 - accuracy: 0.9941\n",
            "Epoch 40/200\n",
            "68/68 [==============================] - 0s 3ms/step - loss: 0.0205 - accuracy: 0.9970\n",
            "Epoch 41/200\n",
            "68/68 [==============================] - 0s 3ms/step - loss: 0.0221 - accuracy: 0.9941\n",
            "Epoch 42/200\n",
            "68/68 [==============================] - 0s 3ms/step - loss: 0.0217 - accuracy: 0.9941\n",
            "Epoch 43/200\n",
            "68/68 [==============================] - 0s 3ms/step - loss: 0.0219 - accuracy: 0.9911\n",
            "Epoch 44/200\n",
            "68/68 [==============================] - 0s 3ms/step - loss: 0.0194 - accuracy: 0.9941\n",
            "Epoch 45/200\n",
            "68/68 [==============================] - 0s 3ms/step - loss: 0.0169 - accuracy: 0.9970\n",
            "Epoch 46/200\n",
            "68/68 [==============================] - 0s 3ms/step - loss: 0.0174 - accuracy: 0.9970\n",
            "Epoch 47/200\n",
            "68/68 [==============================] - 0s 3ms/step - loss: 0.0149 - accuracy: 0.9941\n",
            "Epoch 48/200\n",
            "68/68 [==============================] - 0s 3ms/step - loss: 0.0151 - accuracy: 0.9970\n",
            "Epoch 49/200\n",
            "68/68 [==============================] - 0s 3ms/step - loss: 0.0133 - accuracy: 0.9970\n",
            "Epoch 50/200\n",
            "68/68 [==============================] - 0s 3ms/step - loss: 0.0137 - accuracy: 0.9941\n",
            "Epoch 51/200\n",
            "68/68 [==============================] - 0s 3ms/step - loss: 0.0141 - accuracy: 0.9970\n",
            "Epoch 52/200\n",
            "68/68 [==============================] - 0s 3ms/step - loss: 0.0153 - accuracy: 0.9941\n",
            "Epoch 53/200\n",
            "68/68 [==============================] - 0s 3ms/step - loss: 0.0121 - accuracy: 0.9970\n",
            "Epoch 54/200\n",
            "68/68 [==============================] - 0s 3ms/step - loss: 0.0132 - accuracy: 0.9970\n",
            "Epoch 55/200\n",
            "68/68 [==============================] - 0s 3ms/step - loss: 0.0116 - accuracy: 0.9970\n",
            "Epoch 56/200\n",
            "68/68 [==============================] - 0s 3ms/step - loss: 0.0114 - accuracy: 0.9970\n",
            "Epoch 57/200\n",
            "68/68 [==============================] - 0s 3ms/step - loss: 0.0153 - accuracy: 0.9941\n",
            "Epoch 58/200\n",
            "68/68 [==============================] - 0s 3ms/step - loss: 0.0152 - accuracy: 0.9941\n",
            "Epoch 59/200\n",
            "68/68 [==============================] - 0s 3ms/step - loss: 0.0137 - accuracy: 0.9941\n",
            "Epoch 60/200\n",
            "68/68 [==============================] - 0s 3ms/step - loss: 0.0146 - accuracy: 0.9941\n",
            "Epoch 61/200\n",
            "68/68 [==============================] - 0s 3ms/step - loss: 0.0101 - accuracy: 0.9970\n",
            "Epoch 62/200\n",
            "68/68 [==============================] - 0s 3ms/step - loss: 0.0105 - accuracy: 0.9941\n",
            "Epoch 63/200\n",
            "68/68 [==============================] - 0s 3ms/step - loss: 0.0107 - accuracy: 0.9970\n",
            "Epoch 64/200\n",
            "68/68 [==============================] - 0s 3ms/step - loss: 0.0099 - accuracy: 0.9970\n",
            "Epoch 65/200\n",
            "68/68 [==============================] - 0s 3ms/step - loss: 0.0104 - accuracy: 0.9941\n",
            "Epoch 66/200\n",
            "68/68 [==============================] - 0s 3ms/step - loss: 0.0140 - accuracy: 0.9941\n",
            "Epoch 67/200\n",
            "68/68 [==============================] - 0s 3ms/step - loss: 0.0099 - accuracy: 0.9941\n",
            "Epoch 68/200\n",
            "68/68 [==============================] - 0s 3ms/step - loss: 0.0092 - accuracy: 0.9970\n",
            "Epoch 69/200\n",
            "68/68 [==============================] - 0s 3ms/step - loss: 0.0118 - accuracy: 0.9941\n",
            "Epoch 70/200\n",
            "68/68 [==============================] - 0s 3ms/step - loss: 0.0081 - accuracy: 0.9970\n",
            "Epoch 71/200\n",
            "68/68 [==============================] - 0s 3ms/step - loss: 0.0100 - accuracy: 0.9970\n",
            "Epoch 72/200\n",
            "68/68 [==============================] - 0s 3ms/step - loss: 0.0092 - accuracy: 0.9970\n",
            "Epoch 73/200\n",
            "68/68 [==============================] - 0s 3ms/step - loss: 0.0099 - accuracy: 0.9970\n",
            "Epoch 74/200\n",
            "68/68 [==============================] - 0s 3ms/step - loss: 0.0087 - accuracy: 0.9970\n",
            "Epoch 75/200\n",
            "68/68 [==============================] - 0s 3ms/step - loss: 0.0078 - accuracy: 0.9941\n",
            "Epoch 76/200\n",
            "68/68 [==============================] - 0s 4ms/step - loss: 0.0086 - accuracy: 0.9970\n",
            "Epoch 77/200\n",
            "68/68 [==============================] - 0s 4ms/step - loss: 0.0076 - accuracy: 0.9941\n",
            "Epoch 78/200\n",
            "68/68 [==============================] - 0s 4ms/step - loss: 0.0089 - accuracy: 0.9941\n",
            "Epoch 79/200\n",
            "68/68 [==============================] - 0s 4ms/step - loss: 0.0085 - accuracy: 0.9970\n",
            "Epoch 80/200\n",
            "68/68 [==============================] - 0s 4ms/step - loss: 0.0090 - accuracy: 0.9970\n",
            "Epoch 81/200\n",
            "68/68 [==============================] - 0s 4ms/step - loss: 0.0083 - accuracy: 0.9970\n",
            "Epoch 82/200\n",
            "68/68 [==============================] - 0s 5ms/step - loss: 0.0084 - accuracy: 0.9970\n",
            "Epoch 83/200\n",
            "68/68 [==============================] - 0s 3ms/step - loss: 0.0080 - accuracy: 0.9970\n",
            "Epoch 84/200\n",
            "68/68 [==============================] - 0s 3ms/step - loss: 0.0071 - accuracy: 0.9970\n",
            "Epoch 85/200\n",
            "68/68 [==============================] - 0s 3ms/step - loss: 0.0065 - accuracy: 0.9970\n",
            "Epoch 86/200\n",
            "68/68 [==============================] - 0s 3ms/step - loss: 0.0081 - accuracy: 0.9941\n",
            "Epoch 87/200\n",
            "68/68 [==============================] - 0s 3ms/step - loss: 0.0058 - accuracy: 0.9970\n",
            "Epoch 88/200\n",
            "68/68 [==============================] - 0s 3ms/step - loss: 0.0085 - accuracy: 0.9970\n",
            "Epoch 89/200\n",
            "68/68 [==============================] - 0s 3ms/step - loss: 0.0093 - accuracy: 0.9941\n",
            "Epoch 90/200\n",
            "68/68 [==============================] - 0s 3ms/step - loss: 0.0058 - accuracy: 0.9970\n",
            "Epoch 91/200\n",
            "68/68 [==============================] - 0s 3ms/step - loss: 0.0085 - accuracy: 0.9970\n",
            "Epoch 92/200\n",
            "68/68 [==============================] - 0s 3ms/step - loss: 0.0076 - accuracy: 0.9970\n",
            "Epoch 93/200\n",
            "68/68 [==============================] - 0s 3ms/step - loss: 0.0080 - accuracy: 0.9970\n",
            "Epoch 94/200\n",
            "68/68 [==============================] - 0s 3ms/step - loss: 0.0068 - accuracy: 0.9970\n",
            "Epoch 95/200\n",
            "68/68 [==============================] - 0s 3ms/step - loss: 0.0078 - accuracy: 0.9970\n",
            "Epoch 96/200\n",
            "68/68 [==============================] - 0s 3ms/step - loss: 0.0091 - accuracy: 0.9941\n",
            "Epoch 97/200\n",
            "68/68 [==============================] - 0s 3ms/step - loss: 0.0058 - accuracy: 0.9970\n",
            "Epoch 98/200\n",
            "68/68 [==============================] - 0s 3ms/step - loss: 0.0078 - accuracy: 0.9970\n",
            "Epoch 99/200\n",
            "68/68 [==============================] - 0s 3ms/step - loss: 0.0076 - accuracy: 0.9941\n",
            "Epoch 100/200\n",
            "68/68 [==============================] - 0s 3ms/step - loss: 0.0090 - accuracy: 0.9941\n",
            "Epoch 101/200\n",
            "68/68 [==============================] - 0s 3ms/step - loss: 0.0100 - accuracy: 0.9941\n",
            "Epoch 102/200\n",
            "68/68 [==============================] - 0s 4ms/step - loss: 0.0078 - accuracy: 0.9970\n",
            "Epoch 103/200\n",
            "68/68 [==============================] - 0s 6ms/step - loss: 0.0079 - accuracy: 0.9970\n",
            "Epoch 104/200\n",
            "68/68 [==============================] - 0s 5ms/step - loss: 0.0087 - accuracy: 0.9970\n",
            "Epoch 105/200\n",
            "68/68 [==============================] - 0s 6ms/step - loss: 0.0064 - accuracy: 0.9941\n",
            "Epoch 106/200\n",
            "68/68 [==============================] - 0s 4ms/step - loss: 0.0053 - accuracy: 0.9970\n",
            "Epoch 107/200\n",
            "68/68 [==============================] - 0s 3ms/step - loss: 0.0068 - accuracy: 0.9941\n",
            "Epoch 108/200\n",
            "68/68 [==============================] - 0s 3ms/step - loss: 0.0067 - accuracy: 0.9970\n",
            "Epoch 109/200\n",
            "68/68 [==============================] - 0s 3ms/step - loss: 0.0076 - accuracy: 0.9970\n",
            "Epoch 110/200\n",
            "68/68 [==============================] - 0s 3ms/step - loss: 0.0088 - accuracy: 0.9941\n",
            "Epoch 111/200\n",
            "68/68 [==============================] - 0s 3ms/step - loss: 0.0075 - accuracy: 0.9970\n",
            "Epoch 112/200\n",
            "68/68 [==============================] - 0s 3ms/step - loss: 0.0072 - accuracy: 0.9970\n",
            "Epoch 113/200\n",
            "68/68 [==============================] - 0s 3ms/step - loss: 0.0076 - accuracy: 0.9941\n",
            "Epoch 114/200\n",
            "68/68 [==============================] - 0s 3ms/step - loss: 0.0057 - accuracy: 0.9970\n",
            "Epoch 115/200\n",
            "68/68 [==============================] - 0s 3ms/step - loss: 0.0081 - accuracy: 0.9941\n",
            "Epoch 116/200\n",
            "68/68 [==============================] - 0s 3ms/step - loss: 0.0068 - accuracy: 0.9941\n",
            "Epoch 117/200\n",
            "68/68 [==============================] - 0s 3ms/step - loss: 0.0082 - accuracy: 0.9941\n",
            "Epoch 118/200\n",
            "68/68 [==============================] - 0s 3ms/step - loss: 0.0086 - accuracy: 0.9941\n",
            "Epoch 119/200\n",
            "68/68 [==============================] - 0s 4ms/step - loss: 0.0059 - accuracy: 0.9970\n",
            "Epoch 120/200\n",
            "68/68 [==============================] - 0s 3ms/step - loss: 0.0060 - accuracy: 0.9970\n",
            "Epoch 121/200\n",
            "68/68 [==============================] - 0s 3ms/step - loss: 0.0070 - accuracy: 0.9970\n",
            "Epoch 122/200\n",
            "68/68 [==============================] - 0s 3ms/step - loss: 0.0086 - accuracy: 0.9941\n",
            "Epoch 123/200\n",
            "68/68 [==============================] - 0s 3ms/step - loss: 0.0072 - accuracy: 0.9970\n",
            "Epoch 124/200\n",
            "68/68 [==============================] - 0s 3ms/step - loss: 0.0075 - accuracy: 0.9941\n",
            "Epoch 125/200\n",
            "68/68 [==============================] - 0s 3ms/step - loss: 0.0066 - accuracy: 0.9970\n",
            "Epoch 126/200\n",
            "68/68 [==============================] - 0s 4ms/step - loss: 0.0049 - accuracy: 0.9970\n",
            "Epoch 127/200\n",
            "68/68 [==============================] - 0s 5ms/step - loss: 0.0046 - accuracy: 0.9941\n",
            "Epoch 128/200\n",
            "68/68 [==============================] - 0s 4ms/step - loss: 0.0069 - accuracy: 0.9941\n",
            "Epoch 129/200\n",
            "68/68 [==============================] - 0s 4ms/step - loss: 0.0054 - accuracy: 0.9970\n",
            "Epoch 130/200\n",
            "68/68 [==============================] - 0s 4ms/step - loss: 0.0073 - accuracy: 0.9970\n",
            "Epoch 131/200\n",
            "68/68 [==============================] - 0s 4ms/step - loss: 0.0062 - accuracy: 0.9970\n",
            "Epoch 132/200\n",
            "68/68 [==============================] - 0s 4ms/step - loss: 0.0080 - accuracy: 0.9941\n",
            "Epoch 133/200\n",
            "68/68 [==============================] - 0s 5ms/step - loss: 0.0075 - accuracy: 0.9970\n",
            "Epoch 134/200\n",
            "68/68 [==============================] - 0s 4ms/step - loss: 0.0070 - accuracy: 0.9941\n",
            "Epoch 135/200\n",
            "68/68 [==============================] - 0s 3ms/step - loss: 0.0076 - accuracy: 0.9941\n",
            "Epoch 136/200\n",
            "68/68 [==============================] - 0s 3ms/step - loss: 0.0078 - accuracy: 0.9941\n",
            "Epoch 137/200\n",
            "68/68 [==============================] - 0s 3ms/step - loss: 0.0078 - accuracy: 0.9941\n",
            "Epoch 138/200\n",
            "68/68 [==============================] - 0s 3ms/step - loss: 0.0068 - accuracy: 0.9970\n",
            "Epoch 139/200\n",
            "68/68 [==============================] - 0s 3ms/step - loss: 0.0072 - accuracy: 0.9970\n",
            "Epoch 140/200\n",
            "68/68 [==============================] - 0s 3ms/step - loss: 0.0052 - accuracy: 0.9970\n",
            "Epoch 141/200\n",
            "68/68 [==============================] - 0s 3ms/step - loss: 0.0049 - accuracy: 0.9970\n",
            "Epoch 142/200\n",
            "68/68 [==============================] - 0s 3ms/step - loss: 0.0068 - accuracy: 0.9941\n",
            "Epoch 143/200\n",
            "68/68 [==============================] - 0s 3ms/step - loss: 0.0065 - accuracy: 0.9941\n",
            "Epoch 144/200\n",
            "68/68 [==============================] - 0s 3ms/step - loss: 0.0063 - accuracy: 0.9970\n",
            "Epoch 145/200\n",
            "68/68 [==============================] - 0s 3ms/step - loss: 0.0067 - accuracy: 0.9941\n",
            "Epoch 146/200\n",
            "68/68 [==============================] - 0s 3ms/step - loss: 0.0067 - accuracy: 0.9970\n",
            "Epoch 147/200\n",
            "68/68 [==============================] - 0s 3ms/step - loss: 0.0076 - accuracy: 0.9941\n",
            "Epoch 148/200\n",
            "68/68 [==============================] - 0s 3ms/step - loss: 0.0081 - accuracy: 0.9970\n",
            "Epoch 149/200\n",
            "68/68 [==============================] - 0s 3ms/step - loss: 0.0060 - accuracy: 0.9970\n",
            "Epoch 150/200\n",
            "68/68 [==============================] - 0s 3ms/step - loss: 0.0045 - accuracy: 0.9970\n",
            "Epoch 151/200\n",
            "68/68 [==============================] - 0s 3ms/step - loss: 0.0066 - accuracy: 0.9970\n",
            "Epoch 152/200\n",
            "68/68 [==============================] - 0s 3ms/step - loss: 0.0054 - accuracy: 0.9941\n",
            "Epoch 153/200\n",
            "68/68 [==============================] - 0s 3ms/step - loss: 0.0068 - accuracy: 0.9970\n",
            "Epoch 154/200\n",
            "68/68 [==============================] - 0s 3ms/step - loss: 0.0046 - accuracy: 0.9970\n",
            "Epoch 155/200\n",
            "68/68 [==============================] - 0s 3ms/step - loss: 0.0064 - accuracy: 0.9941\n",
            "Epoch 156/200\n",
            "68/68 [==============================] - 0s 3ms/step - loss: 0.0073 - accuracy: 0.9941\n",
            "Epoch 157/200\n",
            "68/68 [==============================] - 0s 3ms/step - loss: 0.0061 - accuracy: 0.9970\n",
            "Epoch 158/200\n",
            "68/68 [==============================] - 0s 3ms/step - loss: 0.0072 - accuracy: 0.9941\n",
            "Epoch 159/200\n",
            "68/68 [==============================] - 0s 3ms/step - loss: 0.0064 - accuracy: 0.9941\n",
            "Epoch 160/200\n",
            "68/68 [==============================] - 0s 3ms/step - loss: 0.0066 - accuracy: 0.9970\n",
            "Epoch 161/200\n",
            "68/68 [==============================] - 0s 3ms/step - loss: 0.0060 - accuracy: 0.9941\n",
            "Epoch 162/200\n",
            "68/68 [==============================] - 0s 3ms/step - loss: 0.0058 - accuracy: 0.9970\n",
            "Epoch 163/200\n",
            "68/68 [==============================] - 0s 3ms/step - loss: 0.0065 - accuracy: 0.9970\n",
            "Epoch 164/200\n",
            "68/68 [==============================] - 0s 3ms/step - loss: 0.0072 - accuracy: 0.9941\n",
            "Epoch 165/200\n",
            "68/68 [==============================] - 0s 3ms/step - loss: 0.0066 - accuracy: 0.9941\n",
            "Epoch 166/200\n",
            "68/68 [==============================] - 0s 3ms/step - loss: 0.0069 - accuracy: 0.9941\n",
            "Epoch 167/200\n",
            "68/68 [==============================] - 0s 3ms/step - loss: 0.0070 - accuracy: 0.9941\n",
            "Epoch 168/200\n",
            "68/68 [==============================] - 0s 3ms/step - loss: 0.0057 - accuracy: 0.9970\n",
            "Epoch 169/200\n",
            "68/68 [==============================] - 0s 3ms/step - loss: 0.0065 - accuracy: 0.9941\n",
            "Epoch 170/200\n",
            "68/68 [==============================] - 0s 3ms/step - loss: 0.0062 - accuracy: 0.9941\n",
            "Epoch 171/200\n",
            "68/68 [==============================] - 0s 3ms/step - loss: 0.0058 - accuracy: 0.9970\n",
            "Epoch 172/200\n",
            "68/68 [==============================] - 0s 3ms/step - loss: 0.0051 - accuracy: 0.9970\n",
            "Epoch 173/200\n",
            "68/68 [==============================] - 0s 3ms/step - loss: 0.0064 - accuracy: 0.9970\n",
            "Epoch 174/200\n",
            "68/68 [==============================] - 0s 3ms/step - loss: 0.0055 - accuracy: 0.9970\n",
            "Epoch 175/200\n",
            "68/68 [==============================] - 0s 3ms/step - loss: 0.0065 - accuracy: 0.9941\n",
            "Epoch 176/200\n",
            "68/68 [==============================] - 0s 3ms/step - loss: 0.0065 - accuracy: 0.9970\n",
            "Epoch 177/200\n",
            "68/68 [==============================] - 0s 3ms/step - loss: 0.0055 - accuracy: 0.9970\n",
            "Epoch 178/200\n",
            "68/68 [==============================] - 0s 3ms/step - loss: 0.0054 - accuracy: 0.9970\n",
            "Epoch 179/200\n",
            "68/68 [==============================] - 0s 3ms/step - loss: 0.0044 - accuracy: 0.9970\n",
            "Epoch 180/200\n",
            "68/68 [==============================] - 0s 3ms/step - loss: 0.0057 - accuracy: 0.9941\n",
            "Epoch 181/200\n",
            "68/68 [==============================] - 0s 5ms/step - loss: 0.0052 - accuracy: 0.9970\n",
            "Epoch 182/200\n",
            "68/68 [==============================] - 0s 4ms/step - loss: 0.0065 - accuracy: 0.9970\n",
            "Epoch 183/200\n",
            "68/68 [==============================] - 0s 4ms/step - loss: 0.0066 - accuracy: 0.9941\n",
            "Epoch 184/200\n",
            "68/68 [==============================] - 0s 4ms/step - loss: 0.0058 - accuracy: 0.9970\n",
            "Epoch 185/200\n",
            "68/68 [==============================] - 0s 4ms/step - loss: 0.0055 - accuracy: 0.9941\n",
            "Epoch 186/200\n",
            "68/68 [==============================] - 0s 4ms/step - loss: 0.0059 - accuracy: 0.9941\n",
            "Epoch 187/200\n",
            "68/68 [==============================] - 0s 4ms/step - loss: 0.0056 - accuracy: 0.9941\n",
            "Epoch 188/200\n",
            "68/68 [==============================] - 0s 4ms/step - loss: 0.0061 - accuracy: 0.9941\n",
            "Epoch 189/200\n",
            "68/68 [==============================] - 0s 3ms/step - loss: 0.0061 - accuracy: 0.9970\n",
            "Epoch 190/200\n",
            "68/68 [==============================] - 0s 3ms/step - loss: 0.0047 - accuracy: 0.9970\n",
            "Epoch 191/200\n",
            "68/68 [==============================] - 0s 3ms/step - loss: 0.0061 - accuracy: 0.9941\n",
            "Epoch 192/200\n",
            "68/68 [==============================] - 0s 3ms/step - loss: 0.0056 - accuracy: 0.9941\n",
            "Epoch 193/200\n",
            "68/68 [==============================] - 0s 3ms/step - loss: 0.0047 - accuracy: 0.9970\n",
            "Epoch 194/200\n",
            "68/68 [==============================] - 0s 3ms/step - loss: 0.0060 - accuracy: 0.9970\n",
            "Epoch 195/200\n",
            "68/68 [==============================] - 0s 3ms/step - loss: 0.0061 - accuracy: 0.9970\n",
            "Epoch 196/200\n",
            "68/68 [==============================] - 0s 3ms/step - loss: 0.0062 - accuracy: 0.9970\n",
            "Epoch 197/200\n",
            "68/68 [==============================] - 0s 3ms/step - loss: 0.0059 - accuracy: 0.9941\n",
            "Epoch 198/200\n",
            "68/68 [==============================] - 0s 4ms/step - loss: 0.0051 - accuracy: 0.9941\n",
            "Epoch 199/200\n",
            "68/68 [==============================] - 0s 3ms/step - loss: 0.0062 - accuracy: 0.9941\n",
            "Epoch 200/200\n",
            "68/68 [==============================] - 0s 3ms/step - loss: 0.0089 - accuracy: 0.9970\n",
            "model created\n"
          ]
        }
      ],
      "source": [
        "#fitting and saving the model \n",
        "hist = model.fit(np.array(train_x), np.array(train_y), epochs=200, batch_size=5, verbose=1)\n",
        "model.save('chatbot_model.h5', hist)\n",
        "\n",
        "print(\"model created\")"
      ]
    },
    {
      "cell_type": "code",
      "execution_count": null,
      "metadata": {
        "id": "q6v--pzaUfzr"
      },
      "outputs": [],
      "source": [
        "from keras.models import load_model\n",
        "\n",
        "loaded_model = load_model('./chatbot_model.h5')\n",
        "\n",
        "intents = json.loads(open('./intents.json').read())\n",
        "\n",
        "words = pickle.load(open('./words.pkl','rb'))\n",
        "\n",
        "classes = pickle.load(open('./classes.pkl','rb'))\n",
        "\n"
      ]
    },
    {
      "cell_type": "code",
      "execution_count": null,
      "metadata": {
        "colab": {
          "base_uri": "https://localhost:8080/"
        },
        "id": "gKJ7joCl1QFy",
        "outputId": "c182f0d2-78a1-4d21-e36b-439a02889623"
      },
      "outputs": [
        {
          "output_type": "stream",
          "name": "stdout",
          "text": [
            "Test accuracy: 78.824\n",
            "Test loss: 1.695\n"
          ]
        }
      ],
      "source": [
        "# Predict and evaluate accuracy\n",
        "# Use the Keras evaluate() method to get the accuracy\n",
        "loss, accuracy = loaded_model.evaluate(np.array(test_x), np.array(test_y), verbose=0)\n",
        "print(f'Test accuracy: {accuracy*100:.3f}')\n",
        "print(f'Test loss: {loss:.3f}')"
      ]
    },
    {
      "cell_type": "code",
      "execution_count": null,
      "metadata": {
        "id": "T02rw50_Vbau"
      },
      "outputs": [],
      "source": [
        "def clean_up_sentence(sentence):\n",
        "  # tokenize the pattern - split words into array\n",
        "\n",
        "  sentence_words = nltk.word_tokenize(sentence)\n",
        "  #print(sentence_words)\n",
        "  # stem each word - create short form for word\n",
        "\n",
        "  sentence_words = [lemmatizer.lemmatize(word.lower()) for word in sentence_words]\n",
        "  #print(sentence_words)\n",
        "\n",
        "  return sentence_words"
      ]
    },
    {
      "cell_type": "code",
      "execution_count": null,
      "metadata": {
        "id": "zHIIZq9lVm39"
      },
      "outputs": [],
      "source": [
        "def bow(sentence, words, show_details=True):\n",
        "  # tokenize the pattern\n",
        "\n",
        "  sentence_words = clean_up_sentence(sentence)\n",
        "  #print(sentence_words)\n",
        "\n",
        "  # bag of words - matrix of N words, vocabulary matrix\n",
        "\n",
        "  bag = [0]*len(words) \n",
        "  #print(bag)\n",
        "\n",
        "  for s in sentence_words:  \n",
        "      for i,w in enumerate(words):\n",
        "          if w == s: \n",
        "              # assign 1 if current word is in the vocabulary position\n",
        "              bag[i] = 1\n",
        "              if show_details:\n",
        "                  print (\"found in bag: %s\" % w)\n",
        "              #print (\"found in bag: %s\" % w)\n",
        "  #print(bag)\n",
        "  return(np.array(bag))              "
      ]
    },
    {
      "cell_type": "code",
      "execution_count": null,
      "metadata": {
        "id": "cZxLT5PcV8gt"
      },
      "outputs": [],
      "source": [
        "def predict_class(sentence, model):\n",
        "  # filter out predictions below a threshold\n",
        "\n",
        "  p = bow(sentence, words,show_details=False)\n",
        "  #print(p)\n",
        "\n",
        "  res = loaded_model.predict(np.array([p]))[0]\n",
        "  #print(res)\n",
        "\n",
        "  ERROR_THRESHOLD = 0.25\n",
        "\n",
        "  results = [[i,r] for i,r in enumerate(res) if r>ERROR_THRESHOLD]\n",
        "  #print(results)\n",
        "  # sort by strength of probability\n",
        "\n",
        "  results.sort(key=lambda x: x[1], reverse=True)\n",
        "  #print(results)\n",
        "  return_list = []\n",
        "\n",
        "  for r in results:\n",
        "      return_list.append({\"intent\": classes[r[0]], \"probability\": str(r[1])})\n",
        "\n",
        "  return return_list\n",
        "  #print(return_list)"
      ]
    },
    {
      "cell_type": "code",
      "execution_count": null,
      "metadata": {
        "id": "nzOnuqalWJKB"
      },
      "outputs": [],
      "source": [
        "def getResponse(ints, intents_json):\n",
        "  tag = ints[0]['intent']\n",
        "  #print(tag)\n",
        "\n",
        "  list_of_intents = intents_json['intents']\n",
        "  #print(list_of_intents)\n",
        "  for i in list_of_intents:\n",
        "      if(i['tag']== tag):\n",
        "          result = random.choice(i['responses'])\n",
        "          break  \n",
        "  return result"
      ]
    },
    {
      "cell_type": "code",
      "execution_count": null,
      "metadata": {
        "id": "mE9i54uyWZ6S"
      },
      "outputs": [],
      "source": [
        "def chatbot_response(text):\n",
        "   ints = predict_class(text, model)\n",
        "   #print(ints)\n",
        "\n",
        "   res = getResponse(ints, intents)\n",
        "   #print(res)\n",
        "   return res"
      ]
    },
    {
      "cell_type": "code",
      "execution_count": null,
      "metadata": {
        "id": "ME4GZqt8WqKQ",
        "colab": {
          "base_uri": "https://localhost:8080/"
        },
        "outputId": "4ad7ca1f-b693-49dd-ff2e-87237fd5d610"
      },
      "outputs": [
        {
          "output_type": "stream",
          "name": "stdout",
          "text": [
            "Enter Message:hello\n",
            "1/1 [==============================] - 0s 117ms/step\n",
            "Hi there, how can I help?\n",
            "Enter Message:tell about fees\n",
            "1/1 [==============================] - 0s 18ms/step\n",
            "For Fee detail visit <a target=\"_blank\" href=\"LINK\"> here</a>\n",
            "Enter Message:about admission\n",
            "1/1 [==============================] - 0s 17ms/step\n",
            "Application can also be submitted online through the Unversity's  <a target=\"_blank\" href=\"LINK OF ADMISSION DOCUMENT\">website</a>\n"
          ]
        }
      ],
      "source": [
        "start = True\n",
        "while start:\n",
        "  query = input('Enter Message:')\n",
        "  if query in ['quit','exit','bye']:\n",
        "      start = False\n",
        "      continue\n",
        "  try:\n",
        "      res = chatbot_response(query)\n",
        "      print(res)\n",
        "  except:\n",
        "      print('You may need to rephrase your question.')"
      ]
    },
    {
      "cell_type": "code",
      "source": [],
      "metadata": {
        "id": "wXdJK2r4Pozj"
      },
      "execution_count": null,
      "outputs": []
    }
  ],
  "metadata": {
    "colab": {
      "provenance": [],
      "gpuType": "T4",
      "authorship_tag": "ABX9TyOw+25rVMs1yHK1fFCvdSTy",
      "include_colab_link": true
    },
    "kernelspec": {
      "display_name": "Python 3",
      "name": "python3"
    },
    "language_info": {
      "name": "python"
    },
    "accelerator": "GPU",
    "gpuClass": "standard"
  },
  "nbformat": 4,
  "nbformat_minor": 0
}